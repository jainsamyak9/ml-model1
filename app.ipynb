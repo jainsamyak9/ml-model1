{
 "cells": [
  {
   "cell_type": "code",
   "execution_count": 7,
   "metadata": {},
   "outputs": [],
   "source": [
    "import pickle\n",
    "import pandas as pd\n",
    "import numpy as np"
   ]
  },
  {
   "cell_type": "code",
   "execution_count": 9,
   "metadata": {},
   "outputs": [
    {
     "data": {
      "text/plain": [
       "(224734, 8)"
      ]
     },
     "execution_count": 9,
     "metadata": {},
     "output_type": "execute_result"
    }
   ],
   "source": [
    "df = pd.read_csv(\"May_june_data_for_model.csv\")\n",
    "df.shape"
   ]
  },
  {
   "cell_type": "code",
   "execution_count": 23,
   "metadata": {},
   "outputs": [
    {
     "ename": "NameError",
     "evalue": "name 'python' is not defined",
     "output_type": "error",
     "traceback": [
      "\u001b[0;31m---------------------------------------------------------------------------\u001b[0m",
      "\u001b[0;31mNameError\u001b[0m                                 Traceback (most recent call last)",
      "\u001b[0;32m<ipython-input-23-e51c81f014ea>\u001b[0m in \u001b[0;36m<module>\u001b[0;34m\u001b[0m\n\u001b[0;32m----> 1\u001b[0;31m \u001b[0mpython\u001b[0m \u001b[0;34m-\u001b[0m\u001b[0;34m-\u001b[0m\u001b[0mv\u001b[0m\u001b[0;34m\u001b[0m\u001b[0;34m\u001b[0m\u001b[0m\n\u001b[0m",
      "\u001b[0;31mNameError\u001b[0m: name 'python' is not defined"
     ]
    }
   ],
   "source": [
    "python --v"
   ]
  },
  {
   "cell_type": "code",
   "execution_count": 10,
   "metadata": {},
   "outputs": [],
   "source": [
    "df1 = df.iloc[:168550,:]\n",
    "df2 = df.iloc[168551:,:]"
   ]
  },
  {
   "cell_type": "code",
   "execution_count": 11,
   "metadata": {},
   "outputs": [],
   "source": [
    "x = df1.iloc[:,[6,1,7,5]]\n",
    "y = df1.iloc[:,4]"
   ]
  },
  {
   "cell_type": "code",
   "execution_count": 12,
   "metadata": {},
   "outputs": [
    {
     "name": "stdout",
     "output_type": "stream",
     "text": [
      "(134840, 4) (33710, 4) (134840,) (33710,)\n"
     ]
    },
    {
     "name": "stderr",
     "output_type": "stream",
     "text": [
      "/Users/samyakjain/opt/anaconda3/envs/IntroToTensorFlow/lib/python3.7/importlib/_bootstrap.py:219: RuntimeWarning: numpy.ufunc size changed, may indicate binary incompatibility. Expected 192 from C header, got 216 from PyObject\n",
      "  return f(*args, **kwds)\n"
     ]
    }
   ],
   "source": [
    "from sklearn.model_selection import train_test_split\n",
    "from sklearn.metrics import r2_score\n",
    "x_train,x_test,y_train,y_test = train_test_split(x,y,test_size = 0.2,random_state=42)\n",
    "print(x_train.shape,x_test.shape,y_train.shape,y_test.shape)"
   ]
  },
  {
   "cell_type": "code",
   "execution_count": 13,
   "metadata": {},
   "outputs": [
    {
     "name": "stderr",
     "output_type": "stream",
     "text": [
      "/Users/samyakjain/opt/anaconda3/envs/IntroToTensorFlow/lib/python3.7/importlib/_bootstrap.py:219: RuntimeWarning: numpy.ufunc size changed, may indicate binary incompatibility. Expected 192 from C header, got 216 from PyObject\n",
      "  return f(*args, **kwds)\n",
      "/Users/samyakjain/opt/anaconda3/envs/IntroToTensorFlow/lib/python3.7/importlib/_bootstrap.py:219: RuntimeWarning: numpy.ufunc size changed, may indicate binary incompatibility. Expected 192 from C header, got 216 from PyObject\n",
      "  return f(*args, **kwds)\n"
     ]
    },
    {
     "data": {
      "text/plain": [
       "0.6734824075242808"
      ]
     },
     "execution_count": 13,
     "metadata": {},
     "output_type": "execute_result"
    }
   ],
   "source": [
    "from sklearn.ensemble import RandomForestRegressor\n",
    "rf = RandomForestRegressor(n_estimators=100)\n",
    "rf.fit(x_train,y_train)\n",
    "y_pred = rf.predict(x_test)\n",
    "r2_score(y_test, y_pred)"
   ]
  },
  {
   "cell_type": "code",
   "execution_count": 16,
   "metadata": {},
   "outputs": [
    {
     "name": "stdout",
     "output_type": "stream",
     "text": [
      "Collecting compress-pickle\n",
      "  Downloading compress_pickle-2.0.1-py3-none-any.whl (24 kB)\n",
      "Installing collected packages: compress-pickle\n",
      "Successfully installed compress-pickle-2.0.1\n"
     ]
    }
   ],
   "source": [
    "# !pip3 install compress-pickle"
   ]
  },
  {
   "cell_type": "code",
   "execution_count": 17,
   "metadata": {},
   "outputs": [],
   "source": [
    "# import sklearn.externals.joblib as extjoblib\n",
    "# import joblib\n",
    "# import bz2"
   ]
  },
  {
   "cell_type": "code",
   "execution_count": 15,
   "metadata": {},
   "outputs": [],
   "source": [
    "# joblib.dump(rf, open(\"Model for all except newgistics.pkl\",\"wb\"))"
   ]
  },
  {
   "cell_type": "code",
   "execution_count": 18,
   "metadata": {},
   "outputs": [],
   "source": [
    "# model = pickle.load(open(\"Model for all except newgistics.sav\",\"rb\"))\n",
    "# sfile = bz2.BZ2File('Model for all except newgistics.pkl', 'w')\n",
    "# pickle.dump(rf, sfile)\n",
    "\n",
    "# model.score(x_test,y_test)"
   ]
  },
  {
   "cell_type": "code",
   "execution_count": 20,
   "metadata": {},
   "outputs": [
    {
     "name": "stderr",
     "output_type": "stream",
     "text": [
      "/Users/samyakjain/opt/anaconda3/envs/IntroToTensorFlow/lib/python3.7/site-packages/sklearn/base.py:334: UserWarning: Trying to unpickle estimator DecisionTreeRegressor from version 0.24.1 when using version 0.23.2. This might lead to breaking code or invalid results. Use at your own risk.\n",
      "  UserWarning)\n",
      "/Users/samyakjain/opt/anaconda3/envs/IntroToTensorFlow/lib/python3.7/site-packages/sklearn/base.py:334: UserWarning: Trying to unpickle estimator RandomForestRegressor from version 0.24.1 when using version 0.23.2. This might lead to breaking code or invalid results. Use at your own risk.\n",
      "  UserWarning)\n"
     ]
    }
   ],
   "source": [
    "# model = pickle.load(open(\"Model for all except newgistics.sav\",\"rb\"))\n"
   ]
  },
  {
   "cell_type": "code",
   "execution_count": 22,
   "metadata": {},
   "outputs": [
    {
     "name": "stdout",
     "output_type": "stream",
     "text": [
      " * Serving Flask app \"__main__\" (lazy loading)\n",
      " * Environment: production\n",
      "\u001b[31m   WARNING: This is a development server. Do not use it in a production deployment.\u001b[0m\n",
      "\u001b[2m   Use a production WSGI server instead.\u001b[0m\n",
      " * Debug mode: on\n"
     ]
    },
    {
     "name": "stderr",
     "output_type": "stream",
     "text": [
      " * Running on http://127.0.0.1:9980/ (Press CTRL+C to quit)\n",
      "127.0.0.1 - - [26/Jul/2021 23:01:00] \"\u001b[37mGET / HTTP/1.1\u001b[0m\" 200 -\n",
      "127.0.0.1 - - [26/Jul/2021 23:01:01] \"\u001b[33mGET /favicon.ico HTTP/1.1\u001b[0m\" 404 -\n",
      "127.0.0.1 - - [26/Jul/2021 23:01:07] \"\u001b[37mPOST /Submit HTTP/1.1\u001b[0m\" 200 -\n"
     ]
    }
   ],
   "source": [
    "from flask import Flask, render_template, redirect\n",
    "# from flask import Flask\n",
    "# from flask_restful import reqparse, abort, Api, Resource\n",
    "from flask import request\n",
    "from datetime import datetime\n",
    "import pickle\n",
    "import numpy as np\n",
    "\n",
    "app = Flask(__name__)\n",
    "@app.route(\"/\")\n",
    "def hello():\n",
    "    return render_template(\"index.html\")\n",
    "@app.route(\"/Submit\",methods = [\"POST\"])\n",
    "def submit_data():\n",
    "    start = datetime.now()\n",
    "    if request.method == \"POST\":\n",
    "        sd = int(request.form[\"sd\"])\n",
    "        sd1 = int(request.form[\"sd1\"])\n",
    "        sd2 = int(request.form[\"sd2\"])\n",
    "        sd3 = int(request.form[\"sd3\"])\n",
    "        new_input = [[sd1,sd,sd3,sd2]]\n",
    "        sd4 = rf.predict(new_input)\n",
    "        sd4 = round(float(sd4))\n",
    "        y = \"Transit time in bussiness days : \" + str(sd4)\n",
    "    end = datetime.now()\n",
    "    c = end - start\n",
    "    z = \"\\n\" + \" Time for api: \" + str(c.microseconds) \n",
    "    y1 = y + z\n",
    "    return y1\n",
    "if __name__ == '__main__':\n",
    "    app.run(debug=True)\n",
    "    "
   ]
  },
  {
   "cell_type": "code",
   "execution_count": null,
   "metadata": {},
   "outputs": [],
   "source": [
    "# !pip install flask_restful"
   ]
  },
  {
   "cell_type": "code",
   "execution_count": null,
   "metadata": {},
   "outputs": [],
   "source": [
    "# from flask import Flask\n",
    "# from flask_restful import reqparse, abort, Api, Resource\n",
    "# import pickle\n",
    "# import numpy as np\n",
    "# from model import NLPModel\n",
    "# app = Flask(__name__)\n",
    "# api = Api(app)"
   ]
  },
  {
   "cell_type": "code",
   "execution_count": null,
   "metadata": {},
   "outputs": [],
   "source": [
    "# parser = reqparse.RequestParser()\n",
    "# parser.add_argument(\"query\")"
   ]
  },
  {
   "cell_type": "code",
   "execution_count": null,
   "metadata": {},
   "outputs": [],
   "source": [
    "# class PredictSentiment(Resource):\n",
    "#     def get(self):\n",
    "#         # use parser and find the user’s query\n",
    "#         args = parser.parse_args()\n",
    "#         user_query = args[\"query\"]\n",
    "#         # vectorize the user’s query and make a prediction\n",
    "# #         uq_vectorized = model.vectorizer_transform(np.array([user_query]))\n",
    "#         prediction = model.predict(user_query)\n",
    "# #         pred_proba = model.predict_proba(uq_vectorized)\n",
    "#         # Output either ‘Negative’ or ‘Positive’ along with the score\n",
    "# #         if prediction == 0:\n",
    "# #             pred_text = ‘Negative’\n",
    "# #         else:\n",
    "# #             pred_text = ‘Positive’\n",
    "#         # round the predict proba value and set to new variable\n",
    "# #         confidence = round(pred_proba[0], 3)\n",
    "#         # create JSON object\n",
    "#         prediction = round(float(prediction))\n",
    "#         output = {\"prediction :\" ,prediction}\n",
    "#         return output"
   ]
  },
  {
   "cell_type": "code",
   "execution_count": null,
   "metadata": {},
   "outputs": [],
   "source": []
  },
  {
   "cell_type": "code",
   "execution_count": null,
   "metadata": {},
   "outputs": [],
   "source": []
  },
  {
   "cell_type": "code",
   "execution_count": null,
   "metadata": {},
   "outputs": [],
   "source": [
    "# # api.add_resource(PredictSentiment, \"/\")\n",
    "# if __name__ == '__main__':\n",
    "#     app.run(debug=True ,port=9989,use_reloader=False)"
   ]
  },
  {
   "cell_type": "code",
   "execution_count": null,
   "metadata": {},
   "outputs": [],
   "source": [
    "# %tb"
   ]
  },
  {
   "cell_type": "code",
   "execution_count": null,
   "metadata": {},
   "outputs": [],
   "source": []
  }
 ],
 "metadata": {
  "kernelspec": {
   "display_name": "Python 3",
   "language": "python",
   "name": "python3"
  },
  "language_info": {
   "codemirror_mode": {
    "name": "ipython",
    "version": 3
   },
   "file_extension": ".py",
   "mimetype": "text/x-python",
   "name": "python",
   "nbconvert_exporter": "python",
   "pygments_lexer": "ipython3",
   "version": "3.7.9"
  }
 },
 "nbformat": 4,
 "nbformat_minor": 5
}
